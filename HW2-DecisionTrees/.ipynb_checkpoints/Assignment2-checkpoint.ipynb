{
 "cells": [
  {
   "cell_type": "markdown",
   "metadata": {},
   "source": [
    "#### This assignment may be worked individually or in pairs. Enter your name/s here:\n",
    "    "
   ]
  },
  {
   "cell_type": "code",
   "execution_count": 1,
   "metadata": {},
   "outputs": [],
   "source": [
    "#names here\n",
    "\n",
    "# EunJung Kim\n",
    "# SuBin Lee"
   ]
  },
  {
   "cell_type": "markdown",
   "metadata": {
    "collapsed": true
   },
   "source": [
    "# Assignment 2: Decision Trees\n",
    "\n",
    "In this assignment we'll implement the Decision Tree algorithm to classify patients as either having or not having diabetic retinopathy. For this task we'll be using the Diabetic Retinopathy data set, which contains features from the Messidor image set to predict whether an image contains signs of diabetic retinopathy or not. This dataset has `1150` records and `20` attributes (some categorical, some continuous). You can find additional details about the dataset [here](http://archive.ics.uci.edu/ml/datasets/Diabetic+Retinopathy+Debrecen+Data+Set)."
   ]
  },
  {
   "cell_type": "markdown",
   "metadata": {},
   "source": [
    "Attribute Information:\n",
    "\n",
    "0) The binary result of quality assessment. 0 = bad quality 1 = sufficient quality.\n",
    "\n",
    "1) The binary result of pre-screening, where 1 indicates severe retinal abnormality and 0 its lack. \n",
    "\n",
    "2-7) The results of MA detection. Each feature value stand for the number of MAs found at the confidence levels alpha = 0.5, . . . , 1, respectively. \n",
    "\n",
    "8-15) contain the same information as 2-7) for exudates. However, as exudates are represented by a set of points rather than the number of pixels constructing the lesions, these features are normalized by dividing the \n",
    "number of lesions with the diameter of the ROI to compensate different image sizes. \n",
    "\n",
    "16) The euclidean distance of the center of the macula and the center of the optic disc to provide important information regarding the patient's condition. This feature is also normalized with the diameter of the ROI.\n",
    "\n",
    "17) The diameter of the optic disc. \n",
    "\n",
    "18) The binary result of the AM/FM-based classification.\n",
    "\n",
    "19) Class label. 1 = contains signs of Diabetic Retinopathy, 0 = no signs of Diabetic Retinopathy."
   ]
  },
  {
   "cell_type": "markdown",
   "metadata": {},
   "source": [
    "#### Implementation: \n",
    "The function prototypes are given to you, please don't change those. You can add additional helper functions if needed. \n",
    "\n",
    "*Suggestion:* The dataset is substantially big, for the purpose of easy debugging, work with a subset of the data and test your decision tree implementation on that.\n",
    "\n",
    "#### Notes:\n",
    "Parts of this assignment will be **autograded** so a couple of caveats :-\n",
    "- Entropy is calculated using log with base 2, `math.log2(x)`.\n",
    "- For continuous features ensure that the threshold value lies exactly between 2 values. For example, if for feature 2 the best split occurs between 10 and 15 then the threshold value will be set as 12.5. For binary features [0/1] the threshold value will be 0.5.\n",
    "- All values < `thresh_val` go to the left child and all values >= `thresh_val` go to the right child."
   ]
  },
  {
   "cell_type": "code",
   "execution_count": 1,
   "metadata": {},
   "outputs": [],
   "source": [
    "# Standard Headers\n",
    "# You are welcome to add additional headers if you wish\n",
    "# EXCEPT for scikit-learn... You may NOT use scikit-learn for this assignment!\n",
    "import pandas as pd\n",
    "import numpy as np\n",
    "from math import log2"
   ]
  },
  {
   "cell_type": "code",
   "execution_count": 2,
   "metadata": {},
   "outputs": [],
   "source": [
    "class DataPoint:\n",
    "    def __str__(self):\n",
    "        return \"< \" + str(self.label) + \": \" + str(self.features) + \" >\"\n",
    "    def __init__(self, label, features):\n",
    "        self.label = label # the classification label of this data point\n",
    "        self.features = features"
   ]
  },
  {
   "cell_type": "markdown",
   "metadata": {},
   "source": [
    "Q1. Read data from a CSV file. Put it into a list of `DataPoints`."
   ]
  },
  {
   "cell_type": "code",
   "execution_count": 3,
   "metadata": {},
   "outputs": [],
   "source": [
    "def get_data(filename):\n",
    "    data = []\n",
    "#     your code goes here\n",
    "\n",
    "    df = pd.read_csv(filename, header=None)\n",
    "    \n",
    "    for index, row in df.iterrows():\n",
    "        data_label = row[19]\n",
    "        data_features = row[:19]\n",
    "\n",
    "        dp = DataPoint(data_label, data_features)\n",
    "\n",
    "        data.append(dp)\n",
    "    return data"
   ]
  },
  {
   "cell_type": "code",
   "execution_count": 4,
   "metadata": {},
   "outputs": [],
   "source": [
    "class TreeNode:\n",
    "    is_leaf = True          # boolean variable to check if the node is a leaf\n",
    "    feature_idx = None      # index that identifies the feature\n",
    "    thresh_val = None       # threshold value that splits the node\n",
    "    prediction = None       # prediction class (only valid for leaf nodes)\n",
    "    left_child = None       # left TreeNode (all values < thresh_val)\n",
    "    right_child = None      # right TreeNode (all values >= thresh_val)\n",
    "    \n",
    "    def printTree(self, level=0):    # for debugging purposes\n",
    "        if self.is_leaf:\n",
    "            print ('-'*level + 'Leaf Node:      predicts ' + str(self.prediction))\n",
    "        else:\n",
    "            print ('-'*level + 'Internal Node:  splits on feature ' \n",
    "                   + str(self.feature_idx) + ' with threshold ' + str(self.thresh_val))\n",
    "            self.left_child.printTree(level+1)\n",
    "            self.right_child.printTree(level+1)"
   ]
  },
  {
   "cell_type": "markdown",
   "metadata": {},
   "source": [
    "Q2. Implement the function `make_prediction` that takes the decision tree root and a `DataPoint` instance and returns the prediction label."
   ]
  },
  {
   "cell_type": "code",
   "execution_count": 5,
   "metadata": {},
   "outputs": [],
   "source": [
    "def make_prediction(tree_root, data_point):\n",
    "#     your code goes here\n",
    "\n",
    "    if(tree_root.is_leaf):\n",
    "        return tree_root.prediction\n",
    "    \n",
    "    for data in data_point:\n",
    "        if(data.features[tree_root.feature_idx] < tree_root.thresh_val):\n",
    "            return make_prediction(tree_root.left_child, data_point)\n",
    "        else:\n",
    "            return make_prediction(tree_root.right_child, data_point)"
   ]
  },
  {
   "cell_type": "markdown",
   "metadata": {},
   "source": [
    "Q3. Implement the function `split_dataset` given an input data set, a `feature_idx` and the `threshold` for the feature. `left_split` will have all values < `threshold` and `right_split` will have all values >= `threshold`."
   ]
  },
  {
   "cell_type": "code",
   "execution_count": 6,
   "metadata": {},
   "outputs": [],
   "source": [
    "def split_dataset(data, feature_idx, threshold):\n",
    "    left_split = []\n",
    "    right_split = []\n",
    "#     your code goes here\n",
    "\n",
    "    for row in data:\n",
    "        if row.features[feature_idx] < threshold:\n",
    "            left_split.append(row)\n",
    "        else:\n",
    "            right_split.append(row)\n",
    "            \n",
    "    return (left_split, right_split)"
   ]
  },
  {
   "cell_type": "markdown",
   "metadata": {},
   "source": [
    "Q4. Implement the function `calc_entropy` to return the entropy of the input dataset."
   ]
  },
  {
   "cell_type": "code",
   "execution_count": 7,
   "metadata": {},
   "outputs": [],
   "source": [
    "from collections import Counter\n",
    "\n",
    "def calc_entropy(data):\n",
    "    entropy = 0.0\n",
    "#     your code goes here\n",
    "\n",
    "    labels = []\n",
    "    c = len(data)    # number of classes\n",
    "    \n",
    "    for i in range(len(data)):\n",
    "        labels.append(data[i].label)\n",
    "        \n",
    "    counted_labels = Counter(labels)    # fraction of records belonging to class\n",
    "    \n",
    "    for label in counted_labels.values():\n",
    "        pi = label / c\n",
    "        entropy += ((-pi) * log2(pi))\n",
    "\n",
    "    return entropy"
   ]
  },
  {
   "cell_type": "markdown",
   "metadata": {},
   "source": [
    "Q5. Implement the function `calc_best_threshold` which returns the best information gain and the corresponding threshold value for one feature at `feature_idx`."
   ]
  },
  {
   "cell_type": "code",
   "execution_count": 8,
   "metadata": {},
   "outputs": [],
   "source": [
    "def get_sorted_data(data, feature_idx):\n",
    "    key = lambda x: x.features[feature_idx]\n",
    "    return sorted(data, key=key)"
   ]
  },
  {
   "cell_type": "code",
   "execution_count": 9,
   "metadata": {},
   "outputs": [],
   "source": [
    "def calc_best_threshold(data, feature_idx):\n",
    "    best_info_gain = 0.0\n",
    "    best_thresh = None\n",
    "#     your code goes here\n",
    "\n",
    "    sorted_data = get_sorted_data(data, feature_idx)\n",
    "    parent_entropy = calc_entropy(sorted_data)\n",
    "\n",
    "    thresh_list = []\n",
    "\n",
    "    for i in range(len(data)-1):\n",
    "        if(sorted_data[i].label != sorted_data[i+1].label):\n",
    "            thresh_value = (sorted_data[i].features[feature_idx] + sorted_data[i+1].features[feature_idx]) / 2\n",
    "            thresh_list.append(thresh_value)\n",
    "    \n",
    "    for thresh in thresh_list:\n",
    "        left_split, right_split = split_dataset(sorted_data, feature_idx, thresh)\n",
    "        \n",
    "        left_entropy = calc_entropy(left_split)\n",
    "        right_entropy = calc_entropy(right_split)\n",
    "        \n",
    "        split_entropy = ((len(left_split)/len(data))*left_entropy) + ((len(right_split)/len(data))*right_entropy)\n",
    "        gain = parent_entropy - split_entropy\n",
    "        \n",
    "        if(best_info_gain < gain):\n",
    "            best_info_gain = gain\n",
    "            best_thresh = thresh\n",
    "        \n",
    "    return (best_info_gain, best_thresh)"
   ]
  },
  {
   "cell_type": "markdown",
   "metadata": {},
   "source": [
    "Q6. Implement the function `identify_best_split` which returns the best feature to split on for an input dataset, and also returns the corresponding threshold value."
   ]
  },
  {
   "cell_type": "code",
   "execution_count": 10,
   "metadata": {},
   "outputs": [],
   "source": [
    "def identify_best_split(data):\n",
    "    if len(data) < 2:\n",
    "        return (None, None)\n",
    "    best_feature = None\n",
    "    best_thresh = None\n",
    "#     your code goes here\n",
    "\n",
    "    best_info_gain = 0.0\n",
    "\n",
    "    for feature_idx in range(len(data[0].features)):\n",
    "        feature_info_gain, feature_thresh = calc_best_threshold(data, feature_idx)\n",
    "        \n",
    "        if feature_info_gain > best_info_gain:\n",
    "            best_info_gain = feature_info_gain\n",
    "            best_thresh = feature_thresh\n",
    "            best_feature = feature_idx\n",
    "    \n",
    "    return (best_feature, best_thresh)"
   ]
  },
  {
   "cell_type": "markdown",
   "metadata": {},
   "source": [
    "Q7. Implement the function `create_leaf_node` which returns a `TreeNode` with `is_leaf=True` and `prediction` set to whichever classification occurs most in the dataset at this node."
   ]
  },
  {
   "cell_type": "code",
   "execution_count": 11,
   "metadata": {},
   "outputs": [],
   "source": [
    "def create_leaf_node(data):\n",
    "    labels = [d.label for d in data]\n",
    "    counts = Counter(labels)\n",
    "    most_common_label = counts.most_common(1)[0][0]    # Get label that classification occurs most\n",
    "\n",
    "    leaf_node = TreeNode()\n",
    "    leaf_node.is_leaf = True\n",
    "    leaf_node.prediction = most_common_label\n",
    "    \n",
    "    return leaf_node"
   ]
  },
  {
   "cell_type": "markdown",
   "metadata": {},
   "source": [
    "Q8. Implement the `create_decision_tree` function. `max_levels` denotes the maximum height of the tree (for example if `max_levels = 1` then the decision tree will only contain the leaf node at the root. [Hint: this is where the recursion happens.]"
   ]
  },
  {
   "cell_type": "code",
   "execution_count": 12,
   "metadata": {},
   "outputs": [],
   "source": [
    "def create_decision_tree(data, max_levels):\n",
    "#     your code goes here\n",
    "\n",
    "    if(max_levels == 1):\n",
    "        return create_leaf_node(data)\n",
    "    \n",
    "    best_feature, best_thresh = identify_best_split(data)\n",
    "    if(best_feature is None):\n",
    "        return create_leaf_node(data)\n",
    "    \n",
    "    left_split, right_split = split_dataset(data, best_feature, best_thresh)\n",
    "    \n",
    "    node = TreeNode()\n",
    "    node.is_leaf = False\n",
    "    node.feature_idx = best_feature\n",
    "    node.thresh_val = best_thresh\n",
    "    node.left_child = create_decision_tree(left_split, max_levels - 1)\n",
    "    node.right_child = create_decision_tree(right_split, max_levels - 1)\n",
    "    \n",
    "    return node"
   ]
  },
  {
   "cell_type": "markdown",
   "metadata": {},
   "source": [
    "Q9. Given a test set, the function `calc_accuracy` returns the accuracy of the classifier. You'll use the `make_prediction` function for this."
   ]
  },
  {
   "cell_type": "code",
   "execution_count": 24,
   "metadata": {},
   "outputs": [],
   "source": [
    "def calc_accuracy(tree_root, data):\n",
    "#     your code goes here\n",
    "    correct = 0\n",
    "    \n",
    "    for data_point in data:\n",
    "        prediction = make_prediction(tree_root, [data_point])\n",
    "        \n",
    "        if prediction == data_point.label:\n",
    "            correct += 1\n",
    "        \n",
    "    accuracy = correct / len(data)\n",
    "\n",
    "    return accuracy"
   ]
  },
  {
   "cell_type": "markdown",
   "metadata": {},
   "source": [
    "Q10. Keeping the `max_levels` parameter as 10, use 5-fold cross validation to measure the accuracy of the model. Print the accuracy of the model."
   ]
  },
  {
   "cell_type": "code",
   "execution_count": 42,
   "metadata": {},
   "outputs": [],
   "source": [
    "import random\n",
    "\n",
    "def split_train_test(data, ratio):\n",
    "    n = len(data)\n",
    "    n_test = int(n * ratio)\n",
    "    \n",
    "    test_indices = random.sample(range(n), n_test)\n",
    "    train_indices = [i for i in range(n) if i not in test_indices]\n",
    "    \n",
    "    return [data[i] for i in train_indices], [data[i] for i in test_indices]"
   ]
  },
  {
   "cell_type": "code",
   "execution_count": 44,
   "metadata": {},
   "outputs": [
    {
     "name": "stdout",
     "output_type": "stream",
     "text": [
      "Test  0\n",
      "Training set size: 920\n",
      "Test set size    : 230\n",
      "Time taken: 54.87875509262085\n",
      "The accuracy on the test set is  64.34782608695652\n",
      "Test  1\n",
      "Training set size: 920\n",
      "Test set size    : 230\n",
      "Time taken: 67.29963088035583\n",
      "The accuracy on the test set is  60.86956521739131\n",
      "Test  2\n",
      "Training set size: 920\n",
      "Test set size    : 230\n",
      "Time taken: 53.162062883377075\n",
      "The accuracy on the test set is  64.34782608695652\n",
      "Test  3\n",
      "Training set size: 920\n",
      "Test set size    : 230\n",
      "Time taken: 56.871042013168335\n",
      "The accuracy on the test set is  68.69565217391305\n",
      "Test  4\n",
      "Training set size: 920\n",
      "Test set size    : 230\n",
      "Time taken: 60.08712077140808\n",
      "The accuracy on the test set is  63.91304347826087\n",
      "The average accuracy is  64.43478260869566\n"
     ]
    }
   ],
   "source": [
    "# Q10\n",
    "import time\n",
    "\n",
    "d = get_data(\"messidor_features.txt\")\n",
    "\n",
    "accuracy = 0\n",
    "total_acc = 0\n",
    "k = 5\n",
    "\n",
    "for i in range(k):\n",
    "    start = time.time()\n",
    "    \n",
    "    print(\"Test \", i)\n",
    "\n",
    "    # partition data into train_set and test_set\n",
    "    train_set, test_set = split_train_test(d, 0.2)\n",
    "\n",
    "    print ('Training set size:', len(train_set))\n",
    "    print ('Test set size    :', len(test_set))\n",
    "\n",
    "    # create the decision tree\n",
    "    tree = create_decision_tree(train_set, 10)\n",
    "\n",
    "    # calculate the accuracy of the tree\n",
    "    accuracy = calc_accuracy(tree, test_set)\n",
    "    \n",
    "    end = time.time()\n",
    "    print ('Time taken:', end - start)\n",
    "    \n",
    "    total_acc += accuracy\n",
    "    \n",
    "    print ('The accuracy on the test set is ', str(accuracy * 100.0))\n",
    "    \n",
    "# average the accuracy over k folds\n",
    "total_acc = total_acc / k\n",
    "print ('The average accuracy is ', str(total_acc * 100.0))\n",
    "# tree.printTree()"
   ]
  },
  {
   "cell_type": "code",
   "execution_count": null,
   "metadata": {},
   "outputs": [],
   "source": [
    "###############################"
   ]
  },
  {
   "cell_type": "code",
   "execution_count": 150,
   "metadata": {},
   "outputs": [
    {
     "name": "stdout",
     "output_type": "stream",
     "text": [
      "\n",
      "FULL DATASET\n",
      "Length of dataset: 1150\n",
      "Entropy of dataset: 0.9971705766292643\n",
      "Best thresh: 62.5\n",
      "Best gain: 0.04595772209113502\n",
      "Best split: feature_index=14, thresh=0.0203705\n"
     ]
    }
   ],
   "source": [
    "# TEST CODE\n",
    "\n",
    "## FULL DATASET\n",
    "print('\\nFULL DATASET')\n",
    "full_data = get_data(\"messidor_features.txt\")\n",
    "print(f'Length of dataset: {len(full_data)}')\n",
    "\n",
    "print(f'Entropy of dataset: {calc_entropy(full_data)}')\n",
    "\n",
    "best_gain, best_thresh = calc_best_threshold(full_data, 3)\n",
    "print(\"Best thresh:\", best_thresh)\n",
    "print(\"Best gain:\", best_gain)\n",
    "\n",
    "feat, thresh = identify_best_split(full_data)\n",
    "print(f\"Best split: feature_index={feat}, thresh={thresh}\")"
   ]
  },
  {
   "cell_type": "code",
   "execution_count": 208,
   "metadata": {},
   "outputs": [
    {
     "name": "stdout",
     "output_type": "stream",
     "text": [
      "Create Tree:\n",
      "Internal Node:  splits on feature 6 with threshold 25.5\n",
      "-Internal Node:  splits on feature 1 with threshold 0.5\n",
      "--Leaf Node:      predicts 1.0\n",
      "--Internal Node:  splits on feature 8 with threshold 30.5556585\n",
      "---Internal Node:  splits on feature 2 with threshold 21.5\n",
      "----Leaf Node:      predicts 1.0\n",
      "----Leaf Node:      predicts 0.0\n",
      "---Leaf Node:      predicts 0.0\n",
      "-Internal Node:  splits on feature 16 with threshold 0.487661\n",
      "--Leaf Node:      predicts 0.0\n",
      "--Leaf Node:      predicts 1.0\n"
     ]
    }
   ],
   "source": [
    "temp_data = get_data(\"sample_train.txt\")\n",
    "\n",
    "print(\"Create Tree:\")\n",
    "temp_tree = create_decision_tree(temp_data, 10)\n",
    "temp_tree.printTree()"
   ]
  }
 ],
 "metadata": {
  "kernelspec": {
   "display_name": "Python 3 (ipykernel)",
   "language": "python",
   "name": "python3"
  },
  "language_info": {
   "codemirror_mode": {
    "name": "ipython",
    "version": 3
   },
   "file_extension": ".py",
   "mimetype": "text/x-python",
   "name": "python",
   "nbconvert_exporter": "python",
   "pygments_lexer": "ipython3",
   "version": "3.9.7"
  }
 },
 "nbformat": 4,
 "nbformat_minor": 2
}
