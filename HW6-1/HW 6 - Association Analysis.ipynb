{
 "cells": [
  {
   "cell_type": "markdown",
   "metadata": {},
   "source": [
    "Name(s): EunJung Kim, Subin Lee"
   ]
  },
  {
   "cell_type": "markdown",
   "metadata": {},
   "source": [
    "# Association Analysis\n",
    "\n",
    "Association analysis uses machine learning to extract frequent itemsets and strong association rules from large datasets. In this assignment you'll be implementing one of the most commonly used algorithms for association rule mining - the Apriori algorithm.\n",
    "\n",
    "The dataset (`large_retail.txt`) that we are going to use has been adapted from the [Retail Market Basket Dataset](http://fimi.ua.ac.be/data/retail.pdf). This dataset contains transaction records supplied by a Belgian retail supermarket store. Each line in the file represents a separate transaction with the item ids separated by space. The dataset has 3000 transactions and 99 different item ids.\n",
    "\n",
    "You are also provided with a smaller dataset (`small_retail.txt`) with 9 transactions and 5 different item ids along with the solutions. You can test and debug your implementation on this smaller dataset."
   ]
  },
  {
   "cell_type": "markdown",
   "metadata": {},
   "source": [
    "## Apriori Algorithm from scratch\n",
    "\n",
    "The Apriori algorithm is a classical algorithm in data mining. It is used for mining frequent itemsets and relevant association rules. In this part, you'll be implementing this algorithm for generating the itemsets that occur enough times to meet the `min_sup` threshold.\n",
    "\n",
    "**Implementation Hint:**\n",
    "\n",
    "- Use the `frozenset` data structure in Python, which is similar to `set` in functionality, to represent the itemsets, because `frozenset` is an immutable (hashable) data structure. You can maintain a dictionary that maps from the itemset (a `frozenset`) to its support count."
   ]
  },
  {
   "cell_type": "code",
   "execution_count": 47,
   "metadata": {},
   "outputs": [],
   "source": [
    "# Standard imports (you can add additional headers if you wish)\n",
    "import numpy as np\n",
    "import pandas as pd"
   ]
  },
  {
   "cell_type": "code",
   "execution_count": 2,
   "metadata": {},
   "outputs": [],
   "source": [
    "# Reading the dataset from file\n",
    "def load_dataset(file_name):\n",
    "    with open(file_name, 'r') as f:\n",
    "        content = f.readlines()\n",
    "        data = [[int(x) for x in line.rstrip().split()] for line in content]\n",
    "    return data"
   ]
  },
  {
   "cell_type": "code",
   "execution_count": 3,
   "metadata": {},
   "outputs": [
    {
     "data": {
      "text/plain": [
       "[[1, 2, 5],\n",
       " [2, 4],\n",
       " [2, 3],\n",
       " [1, 2, 4],\n",
       " [1, 3],\n",
       " [2, 3],\n",
       " [1, 3],\n",
       " [1, 2, 3, 5],\n",
       " [1, 2, 3]]"
      ]
     },
     "execution_count": 3,
     "metadata": {},
     "output_type": "execute_result"
    }
   ],
   "source": [
    "# Read in the small_retail dataset\n",
    "small_dataset = load_dataset('small_retail.txt')\n",
    "small_dataset"
   ]
  },
  {
   "cell_type": "markdown",
   "metadata": {},
   "source": [
    "Q1. Implement the function `create_1_itemsets` that takes as input the entire dataset and returns a list of all the candidate 1-itemsets. For example, for `small_retail.txt` it should return:\n",
    "~~~\n",
    "[frozenset({1}),\n",
    " frozenset({2}),\n",
    " frozenset({3}),\n",
    " frozenset({4}),\n",
    " frozenset({5})]\n",
    " ~~~\n",
    " Please don't hardcode the item ids, your code should support item ids that are non-sequential."
   ]
  },
  {
   "cell_type": "code",
   "execution_count": 60,
   "metadata": {},
   "outputs": [],
   "source": [
    "def create_1_itemsets(dataset): \n",
    "    c1 = []\n",
    "    for transaction in dataset:\n",
    "        for item in transaction:\n",
    "            if not any([frozenset([item]) == set_item for set_item in c1]):\n",
    "                c1.append(frozenset([item]))\n",
    "    c1.sort(key=lambda x: list(x)[0])\n",
    "    return c1"
   ]
  },
  {
   "cell_type": "code",
   "execution_count": 61,
   "metadata": {},
   "outputs": [
    {
     "data": {
      "text/plain": [
       "[frozenset({1}),\n",
       " frozenset({2}),\n",
       " frozenset({3}),\n",
       " frozenset({4}),\n",
       " frozenset({5})]"
      ]
     },
     "execution_count": 61,
     "metadata": {},
     "output_type": "execute_result"
    }
   ],
   "source": [
    "create_1_itemsets(small_dataset)"
   ]
  },
  {
   "cell_type": "markdown",
   "metadata": {},
   "source": [
    "Q2. Implement function `filter_candidates` that takes as input the candidate itemsets, the dataset, and the minumum support count `min_sup`, and filters out candidates that don't meet the support threshold.\n",
    "\n",
    "Return a list of all the itemsets that meet `min_sup` (as a list of frozensets) and the support count information for all of them (as a `dict`)."
   ]
  },
  {
   "cell_type": "code",
   "execution_count": 218,
   "metadata": {},
   "outputs": [],
   "source": [
    "def filter_candidates(candidates, dataset, min_sup):\n",
    "    retlist = []\n",
    "    support_data = {}\n",
    "\n",
    "    for transaction in dataset:\n",
    "        for itemset in candidates:\n",
    "            if itemset.issubset(transaction):\n",
    "                support_data[itemset] = support_data.get(itemset, 0) + 1\n",
    "\n",
    "    num_transactions = len(dataset)\n",
    "    for itemset, support in support_data.items():\n",
    "        if support >= min_sup:\n",
    "            retlist.append(itemset)\n",
    "\n",
    "    return retlist, support_data"
   ]
  },
  {
   "cell_type": "markdown",
   "metadata": {},
   "source": [
    "Q3. Implement the function `generate_next_itemsets` that takes in frequent itemsets of size `k` and generates candidate itemsets of size `k + 1`.\n",
    "\n",
    "Use either the F(k-1) x F(k-1) or the F(k-1) x F(1) candidate generation method, then **filter the candidate list based on the apriori principle before returning it.**"
   ]
  },
  {
   "cell_type": "code",
   "execution_count": 219,
   "metadata": {},
   "outputs": [],
   "source": [
    "def generate_next_itemsets(freq_sets):\n",
    "    retlist = []\n",
    "    for i in range(len(freq_sets)):\n",
    "        for j in range(i+1, len(freq_sets)):\n",
    "            l1 = list(freq_sets[i])[: -1]\n",
    "            l2 = list(freq_sets[j])[: -1]\n",
    "            if l1 == l2:\n",
    "                retlist.append(freq_sets[i] | freq_sets[j])\n",
    "    return retlist"
   ]
  },
  {
   "cell_type": "markdown",
   "metadata": {},
   "source": [
    "Q4. Implement the function `apriori_freq_itemsets` that takes the entire dataset as input and returns all the frequent itemsets that meet `min_sup`."
   ]
  },
  {
   "cell_type": "code",
   "execution_count": 220,
   "metadata": {},
   "outputs": [],
   "source": [
    "def apriori_freq_itemsets(dataset, minsup):\n",
    "    retlist = []\n",
    "    support_data = {}\n",
    "    c1 = create_1_itemsets(dataset)\n",
    "    l1, support_l1 = filter_candidates(c1, dataset, minsup)\n",
    "    retlist.extend(l1)\n",
    "    support_data.update(support_l1)\n",
    "    l = l1\n",
    "    k = 2\n",
    "    while len(l) > 0:\n",
    "        c = generate_next_itemsets(l)\n",
    "        l, support_l = filter_candidates(c, dataset, minsup)\n",
    "        support_data.update(support_l)\n",
    "        retlist.extend(l)\n",
    "        k += 1\n",
    "    return retlist, support_data"
   ]
  },
  {
   "cell_type": "markdown",
   "metadata": {},
   "source": [
    "Q5. Display the frequent item sets in the form of a table along with their `support` (as a fraction: support count over number of transactions) for the `large_retail.txt` dataset **with a min support count of 300**.\n",
    "\n",
    "Sample Table Format (tab separated table)\n",
    "\n",
    "~~~\n",
    "Sup     Freq Itemset\n",
    "0.67\t[1]\n",
    "0.44\t[1, 2]\n",
    "(and so on)\n",
    "...\n",
    "...\n",
    "~~~\n",
    "\n",
    "`support(itemset) = support_count(itemset) / num_total_transactions`.\n",
    "\n",
    "The `support` and the itemset should be separated by a tab (`'\\t'`).\n",
    "\n",
    "Note that the `support` should be rounded to the nearest 2 decimal places (use `round(sup, 2)`). If a support_fraction only contains 1 decimal place (for example, 0.1), you do not need to add a 0 to the end of it (leaving it as 0.1 is fine).\n",
    "\n",
    "The itemsets should also be in a sorted order where smaller itemsets should come before larger itemsets and itemsets of the same size should be sorted amongst themselves.\n",
    "\n",
    "For eg. \n",
    "~~~~\n",
    "[1, 2] should come before [1, 2, 3]\n",
    "[1, 2, 3] should come before [1, 2, 4]\n",
    "[1, 2, 3] should come before [1, 4, 5]\n",
    "[1, 2, 3] should come before [2, 3, 4]\n",
    "~~~~\n",
    "\n",
    "Note that **this order is very important for grading!** \n",
    "\n",
    "The output also shouldn't contain any duplicates. \n",
    "\n",
    "The sample output for the `small_retail.txt` dataset with `min_sup` set to 2 is:\n",
    "\n",
    "~~~~\n",
    "Sup     Freq Itemset\n",
    "0.67\t[1]\n",
    "0.78\t[2]\n",
    "0.67\t[3]\n",
    "0.22\t[4]\n",
    "0.22\t[5]\n",
    "0.44\t[1, 2]\n",
    "0.44\t[1, 3]\n",
    "0.22\t[1, 5]\n",
    "0.44\t[2, 3]\n",
    "0.22\t[2, 4]\n",
    "0.22\t[2, 5]\n",
    "0.22\t[1, 2, 3]\n",
    "0.22\t[1, 2, 5]\n",
    "~~~~\n"
   ]
  },
  {
   "cell_type": "code",
   "execution_count": 287,
   "metadata": {},
   "outputs": [],
   "source": [
    "def display_freq_itemsets(dataset, minsup):\n",
    "    freq_itemsets, support_data = apriori_freq_itemsets(dataset, minsup)\n",
    "    num_transactions = len(dataset)\n",
    "    print(\"Sup\\tFreq Itemset\")\n",
    "    for itemset in sorted(freq_itemsets, key=lambda x: (len(x), tuple(sorted(x)))):\n",
    "        support = round(support_data[itemset] / num_transactions, 2)\n",
    "        print(f\"{support}\\t{sorted(list(itemset))}\")"
   ]
  },
  {
   "cell_type": "code",
   "execution_count": 288,
   "metadata": {},
   "outputs": [],
   "source": [
    "large_dataset = load_dataset('large_retail.txt')"
   ]
  },
  {
   "cell_type": "code",
   "execution_count": 289,
   "metadata": {},
   "outputs": [
    {
     "name": "stdout",
     "output_type": "stream",
     "text": [
      "Sup\tFreq Itemset\n",
      "0.1\t[31]\n",
      "0.14\t[32]\n",
      "0.11\t[36]\n",
      "0.26\t[38]\n",
      "0.53\t[39]\n",
      "0.22\t[41]\n",
      "0.47\t[48]\n",
      "0.11\t[60]\n",
      "0.11\t[65]\n",
      "0.11\t[89]\n",
      "0.14\t[32, 39]\n",
      "0.15\t[38, 39]\n",
      "0.13\t[38, 48]\n",
      "0.14\t[39, 41]\n",
      "0.33\t[39, 48]\n",
      "0.18\t[41, 48]\n",
      "0.14\t[39, 41, 48]\n"
     ]
    }
   ],
   "source": [
    "display_freq_itemsets(large_dataset, 300)"
   ]
  },
  {
   "cell_type": "markdown",
   "metadata": {},
   "source": [
    "Q6. Find the closed frequent item sets. Display results for the `large_retail.txt` dataset in the same format as specified in Q5.\n",
    "\n",
    "The results for the `small_retail` dataset are as follows:\n",
    "\n",
    "~~~~\n",
    "Sup\tFreq Itemset\n",
    "0.0\t[1]\n",
    "0.0\t[2]\n",
    "0.0\t[3]\n",
    "0.0\t[1, 2]\n",
    "0.0\t[1, 3]\n",
    "0.0\t[2, 3]\n",
    "0.0\t[2, 4]\n",
    "0.0\t[1, 2, 3]\n",
    "0.0\t[1, 2, 5]\n",
    "~~~~"
   ]
  },
  {
   "cell_type": "code",
   "execution_count": 310,
   "metadata": {},
   "outputs": [],
   "source": [
    "def closed_freq_itemsets(support_data):\n",
    "    closed_itemsets = []\n",
    "    for itemset, support in support_data.items():\n",
    "        is_closed = False\n",
    "        for other_itemset, other_support in support_data.items():\n",
    "            if itemset != other_itemset and itemset.issubset(other_itemset) and support == other_support:\n",
    "                is_closed = True\n",
    "                break\n",
    "        if is_closed:\n",
    "            closed_itemsets.append(itemset)\n",
    "    return closed_itemsets\n",
    "    \n",
    "def display_closed_freq_itemsets(dataset, minsup):\n",
    "    freq_itemsets, support_data = apriori_freq_itemsets(dataset, minsup)\n",
    "    closed_itemsets = closed_freq_itemsets(support_data)\n",
    "    num_transactions = len(dataset)\n",
    "    print(\"Sup\\tFreq Itemset\")\n",
    "    for itemset in sorted(freq_itemsets, key=lambda x: (len(x), tuple(sorted(x)))):\n",
    "        if itemset not in closed_itemsets:\n",
    "            support = round(support_data[itemset] / num_transactions, 2)\n",
    "            print(f\"{support}\\t{sorted(list(itemset))}\")"
   ]
  },
  {
   "cell_type": "code",
   "execution_count": 311,
   "metadata": {},
   "outputs": [
    {
     "name": "stdout",
     "output_type": "stream",
     "text": [
      "Sup\tFreq Itemset\n",
      "0.1\t[31]\n",
      "0.11\t[36]\n",
      "0.26\t[38]\n",
      "0.53\t[39]\n",
      "0.22\t[41]\n",
      "0.47\t[48]\n",
      "0.11\t[60]\n",
      "0.11\t[65]\n",
      "0.11\t[89]\n",
      "0.14\t[32, 39]\n",
      "0.15\t[38, 39]\n",
      "0.13\t[38, 48]\n",
      "0.33\t[39, 48]\n",
      "0.18\t[41, 48]\n",
      "0.14\t[39, 41, 48]\n"
     ]
    }
   ],
   "source": [
    "display_closed_freq_itemsets(large_dataset, 300)"
   ]
  },
  {
   "cell_type": "markdown",
   "metadata": {},
   "source": [
    "## Extra Credit (+5 points)\n",
    "\n",
    "Q7. Now, generate the strong rules from the frequent itemsets. Given a dictionary of frequent itemsets and their supports, generate all the rules having confidence above some provided `min_conf` threshold. Display the rules in the form of a table.\n",
    "\n",
    "Sample table format (tab separated table):\n",
    "\n",
    "~~~\n",
    "Sup     Conf    Rule\n",
    "0.44\t0.67\t[1] -> [2]\n",
    "0.22\t1.0\t [5] -> [1, 2]\n",
    "0.22\t1.0\t [2, 5] -> [1]\n",
    "(and so on)\n",
    "...\n",
    "...\n",
    "~~~\n",
    "\n",
    "Rule confidence should be rounded to the nearest 2 decimal places (use `round(conf, 2)`). This table should also be tab (`'\\t'`) separated. The rules should be displayed in a sorted order. If a rule is given as `LHS -> RHS` then the rules for which `len(LHS)` is lesser should appear first. If the `len(LHS)` is equal for two rules then rules for which `len(RHS)` is lesser should appear first. If both `len(LHS)` and `len(RHS)` is equal then the rules should be sorted based on LHS first and then based on RHS.\n",
    "\n",
    "~~~~\n",
    "Note:\n",
    "LHS (Left Hand Side)\n",
    "RHS (Right Hand Side)\n",
    "~~~~\n",
    "\n",
    "For eg.\n",
    "~~~~\n",
    "[3] -> [2] should come before [1, 3] -> [4]\n",
    "[4] -> [2] should come before [2] -> [3, 4]\n",
    "[1, 3] -> [2] should come before [1, 5] -> [2]\n",
    "[1, 2] -> [3] should come before [1, 2] -> [5]\n",
    "~~~~\n",
    "\n",
    "Note that **this order is important for grading**. \n",
    "\n",
    "The sample output for the `small_retail` dataset with `min_conf = 0.5` is:\n",
    "\n",
    "~~~~\n",
    "Sup\t Conf\tRule\n",
    "0.44\t0.67\t[1] -> [2]\n",
    "0.44\t0.67\t[1] -> [3]\n",
    "0.44\t0.57\t[2] -> [1]\n",
    "0.44\t0.57\t[2] -> [3]\n",
    "0.44\t0.67\t[3] -> [1]\n",
    "0.44\t0.67\t[3] -> [2]\n",
    "0.22\t1.0\t [4] -> [2]\n",
    "0.22\t1.0\t [5] -> [1]\n",
    "0.22\t1.0\t [5] -> [2]\n",
    "0.22\t1.0\t [5] -> [1, 2]\n",
    "0.22\t0.5\t [1, 2] -> [3]\n",
    "0.22\t0.5\t [1, 2] -> [5]\n",
    "0.22\t0.5\t [1, 3] -> [2]\n",
    "0.22\t1.0\t [1, 5] -> [2]\n",
    "0.22\t0.5\t [2, 3] -> [1]\n",
    "0.22\t1.0\t [2, 5] -> [1]\n",
    "~~~~"
   ]
  },
  {
   "cell_type": "code",
   "execution_count": 312,
   "metadata": {},
   "outputs": [],
   "source": [
    "def generate_rules(support_data, minconf):\n",
    "    rules = []\n",
    "    for itemset, support in support_data.items():\n",
    "        for i in range(1, len(itemset)):\n",
    "            for lhs in map(frozenset, itertools.combinations(itemset, i)):\n",
    "                rhs = itemset.difference(lhs)\n",
    "                conf = support_data[itemset] / support_data[lhs]\n",
    "                if conf >= minconf:\n",
    "                    rules.append((lhs, rhs, support_data[itemset], conf))\n",
    "    return rules"
   ]
  },
  {
   "cell_type": "markdown",
   "metadata": {},
   "source": [
    "## Part 2 - Association Analysis using MLXtend\n",
    "\n",
    "## Installation\n",
    "`scikit-learn` does not provide any functionality for association rule mining so for this assignment you will be using the `MLxtend` library. The documentation for this library is available [here](http://rasbt.github.io/mlxtend/).\n",
    "\n",
    "You will need to install the `MLxtend` library. There are several ways of doing this; you can follow the instructions below, or see the setup guide  [here](http://rasbt.github.io/mlxtend/installation/).\n",
    "\n",
    "\n",
    "### Conda\n",
    "\n",
    "If you downladed Anaconda in order to get Jupyter Notebooks (which is the most common way to get Jupyter Notebooks), then you will want to install `MLxtend` using Conda. \n",
    "\n",
    "Open a command prompt / terminal window and type:\n",
    "\n",
    "`conda install mlxtend --channel conda-forge`\n",
    "\n",
    "### PyPi\n",
    "\n",
    "You can also install via pip. \n",
    "Note: If you are running Jupyter notebooks through an Anaconda install, then pip may not place the `MLxtend` libraries in the correct place for use in Jupyter (which is why you should use Conda instead of pip, if you downloaded Anaconda).\n",
    "\n",
    "Open a command prompt / terminal window and type:\n",
    "\n",
    "`pip3 install mlxtend`\n",
    "\n",
    "### Google Colab\n",
    "\n",
    "If you are using Google Colab, you can install MLXtend via a pip install command with an exclamation point in front of it, in one of your notebook cells. The exclamation points allows you to put shell commands inside of Colab. \n",
    "\n",
    "In a cell in your Colab notebook, type:\n",
    "\n",
    "`!pip install mlxtend`\n"
   ]
  },
  {
   "cell_type": "markdown",
   "metadata": {},
   "source": [
    "## Dataset\n",
    "For the second part of this assignment, the data we'll use comes from a bakery called \"The Bread Basket\", located in the historic center of Edinburgh. The dataset contains more than 9000 transactions from the bakery. The file contains the following columns:\n",
    "\n",
    "- Date. Categorical variable that tells us the date of the transactions (YYYY-MM-DD format). The column includes dates from 2016-10-30 to 2017-04-09.\n",
    "\n",
    "- Time. Categorical variable that tells us the time of the transactions (HH:MM:SS format).\n",
    "\n",
    "- Transaction. Quantitative variable that allows us to differentiate the transactions. The rows that share the same value in this field belong to the same transaction.\n",
    "\n",
    "- Item. Categorical variable with the products purchased.\n",
    "\n",
    "In this part, you'll be running the Apriori algorithm from the MLxtend library to generate the itemsets that occur more than the `min_sup` threshold. Based on these frequent itemsets, you'll find association rules that have confidence above the `min_conf` threshold."
   ]
  },
  {
   "cell_type": "code",
   "execution_count": 314,
   "metadata": {},
   "outputs": [],
   "source": [
    "# Standard imports (you can add additional headers if you wish)\n",
    "import numpy as np\n",
    "import pandas as pd\n",
    "import matplotlib.pyplot as plt\n",
    "from collections import Counter\n",
    "from mlxtend.preprocessing import TransactionEncoder\n",
    "from mlxtend.frequent_patterns import apriori\n",
    "from mlxtend.frequent_patterns import fpmax\n",
    "from mlxtend.frequent_patterns import association_rules"
   ]
  },
  {
   "cell_type": "code",
   "execution_count": 315,
   "metadata": {},
   "outputs": [],
   "source": [
    "%matplotlib inline"
   ]
  },
  {
   "cell_type": "code",
   "execution_count": 316,
   "metadata": {},
   "outputs": [],
   "source": [
    "# Reading the dataset from file\n",
    "def load_dataset(file_name):\n",
    "    with open(file_name, 'r') as f:\n",
    "        content = f.readlines()[1:]\n",
    "    transactions = []\n",
    "    prev_tid = -1\n",
    "    for t in content:\n",
    "        t = t.strip().split(',')[-2:]\n",
    "        tid = t[0]\n",
    "        item = t[1]\n",
    "        if prev_tid != tid:\n",
    "            prev_tid = tid\n",
    "            transactions.append([item])\n",
    "        else:\n",
    "            transactions[-1].append(item)\n",
    "    return transactions"
   ]
  },
  {
   "cell_type": "code",
   "execution_count": 317,
   "metadata": {},
   "outputs": [
    {
     "name": "stdout",
     "output_type": "stream",
     "text": [
      "Num transactions: 9531\n"
     ]
    },
    {
     "data": {
      "text/plain": [
       "[['Bread'],\n",
       " ['Scandinavian', 'Scandinavian'],\n",
       " ['Hot chocolate', 'Jam', 'Cookies'],\n",
       " ['Muffin'],\n",
       " ['Coffee', 'Pastry', 'Bread'],\n",
       " ['Medialuna', 'Pastry', 'Muffin'],\n",
       " ['Medialuna', 'Pastry', 'Coffee', 'Tea'],\n",
       " ['Pastry', 'Bread'],\n",
       " ['Bread', 'Muffin'],\n",
       " ['Scandinavian', 'Medialuna']]"
      ]
     },
     "execution_count": 317,
     "metadata": {},
     "output_type": "execute_result"
    }
   ],
   "source": [
    "dataset = load_dataset('BreadBasket_DMS.csv')\n",
    "\n",
    "# ** NOTE: dataset is a 2D list (not a dataframe!) **\n",
    "\n",
    "print(\"Num transactions:\", len(dataset))\n",
    "#Print the first 10 transactions\n",
    "dataset[:10]"
   ]
  },
  {
   "cell_type": "markdown",
   "metadata": {},
   "source": [
    "Q8. Data Cleaning: Many transactions in the dataset include the item \"NONE.\" First, find and remove all the \"NONE\" items from the dataset. There are some transactions that only contain \"NONE,\" so removing \"NONE\" will leave some transactions as empty lists. Remove all the empty lists as well. \n",
    "\n",
    "Once you have removed the NONEs, find the top 10 best-selling items in the bakery. Create a bar chart to display the total number of transactions for each of the top 10 selling items. Sort the bar chart by frequency (the top most sold item first, down to the 10th most sold item)."
   ]
  },
  {
   "cell_type": "code",
   "execution_count": 320,
   "metadata": {},
   "outputs": [
    {
     "data": {
      "image/png": "[encoded data removed]",
      "text/plain": [
       "<Figure size 1080x504 with 1 Axes>"
      ]
     },
     "metadata": {
      "needs_background": "light"
     },
     "output_type": "display_data"
    }
   ],
   "source": [
    "dataset_cleaned = [list(filter(lambda x: x != 'NONE', transaction)) for transaction in dataset]\n",
    "dataset_cleaned = list(filter(lambda x: len(x) > 0, dataset_cleaned))\n",
    "\n",
    "item_counts = Counter([item for transaction in dataset_cleaned for item in transaction])\n",
    "top_10_items = dict(item_counts.most_common(10))\n",
    "\n",
    "plt.figure(figsize=(15, 7))\n",
    "plt.bar(top_10_items.keys(), top_10_items.values())\n",
    "plt.title(\"Top 10 Best-Selling Items\")\n",
    "plt.xlabel(\"Item\")\n",
    "plt.ylabel(\"Number of Transactions\")\n",
    "plt.show()"
   ]
  },
  {
   "cell_type": "markdown",
   "metadata": {},
   "source": [
    "Q9. \n",
    "\n",
    "a.) Using `mlxtend.preprocessing.TransactionEncoder`, transform `dataset` into an array format suitable for the `mlxtend` library. You will need to call `fit` then `transform`. \n",
    "\n",
    "`TransactionEncoder` learns unique items from the dataset and transforms each transaction into a one-hot encoded boolean numpy array. For example, the resulting encoded dataset will be represented by something like this, where each row is a transaction. If the first transaction contained ['Crepe', 'Jam'], this would correspond to the first row in the encoded table. \n",
    "\n",
    "<img src=\"table.png\">\n",
    "\n",
    "Print the `shape` of the resulting encoded numpy array.\n",
    "\n",
    "b.) `TransactionEncoder` also has a function `inverse_transform` that allows you to tranform one-hot encoded transactions back to the item labels. Try it out on the first 5 transactions and display the items in the first 5 transactions."
   ]
  },
  {
   "cell_type": "code",
   "execution_count": 322,
   "metadata": {},
   "outputs": [
    {
     "name": "stdout",
     "output_type": "stream",
     "text": [
      "(9531, 95)\n"
     ]
    }
   ],
   "source": [
    "te = TransactionEncoder()\n",
    "te_ary = te.fit(dataset).transform(dataset)\n",
    "print(te_ary.shape)"
   ]
  },
  {
   "cell_type": "code",
   "execution_count": 323,
   "metadata": {},
   "outputs": [
    {
     "name": "stdout",
     "output_type": "stream",
     "text": [
      "Transaction 1: ['Bread']\n",
      "Transaction 2: ['Scandinavian']\n",
      "Transaction 3: ['Cookies', 'Hot chocolate', 'Jam']\n",
      "Transaction 4: ['Muffin']\n",
      "Transaction 5: ['Bread', 'Coffee', 'Pastry']\n"
     ]
    }
   ],
   "source": [
    "# Transform one-hot encoded transactions back to item labels\n",
    "inv_dataset = te.inverse_transform(te_ary[:5])\n",
    "\n",
    "# Display the items in the first 5 transactions\n",
    "for i, transaction in enumerate(inv_dataset):\n",
    "    print(f\"Transaction {i+1}: {transaction}\")"
   ]
  },
  {
   "cell_type": "markdown",
   "metadata": {},
   "source": [
    "Q10. Convert the encoded numpy array from Q4 part a into a pandas dataframe. Use the `TransactionEncoder`'s `.columns_` attribute as the column headers. Print the head of the resulting dataframe. "
   ]
  },
  {
   "cell_type": "code",
   "execution_count": 324,
   "metadata": {},
   "outputs": [
    {
     "name": "stdout",
     "output_type": "stream",
     "text": [
      "   Adjustment  Afternoon with the baker  Alfajores  Argentina Night  Art Tray  \\\n",
      "0       False                     False      False            False     False   \n",
      "1       False                     False      False            False     False   \n",
      "2       False                     False      False            False     False   \n",
      "3       False                     False      False            False     False   \n",
      "4       False                     False      False            False     False   \n",
      "\n",
      "   Bacon  Baguette  Bakewell  Bare Popcorn  Basket  ...  The BART  The Nomad  \\\n",
      "0  False     False     False         False   False  ...     False      False   \n",
      "1  False     False     False         False   False  ...     False      False   \n",
      "2  False     False     False         False   False  ...     False      False   \n",
      "3  False     False     False         False   False  ...     False      False   \n",
      "4  False     False     False         False   False  ...     False      False   \n",
      "\n",
      "   Tiffin  Toast  Truffles  Tshirt  Valentine's card  Vegan Feast  \\\n",
      "0   False  False     False   False             False        False   \n",
      "1   False  False     False   False             False        False   \n",
      "2   False  False     False   False             False        False   \n",
      "3   False  False     False   False             False        False   \n",
      "4   False  False     False   False             False        False   \n",
      "\n",
      "   Vegan mincepie  Victorian Sponge  \n",
      "0           False             False  \n",
      "1           False             False  \n",
      "2           False             False  \n",
      "3           False             False  \n",
      "4           False             False  \n",
      "\n",
      "[5 rows x 95 columns]\n"
     ]
    }
   ],
   "source": [
    "encoded_dataset = te_ary\n",
    "encoded_df = pd.DataFrame(encoded_dataset, columns=te.columns_)\n",
    "print(encoded_df.head())"
   ]
  },
  {
   "cell_type": "markdown",
   "metadata": {},
   "source": [
    "Q11. Use the `mlxtend.frequent_patterns.apriori` to generate the frequent itemsets with minimum support of 1% (0.01). Display these itemsets along with their support values."
   ]
  },
  {
   "cell_type": "code",
   "execution_count": 325,
   "metadata": {},
   "outputs": [
    {
     "name": "stdout",
     "output_type": "stream",
     "text": [
      "     support                 itemsets\n",
      "0   0.036093              (Alfajores)\n",
      "1   0.015948               (Baguette)\n",
      "2   0.324940                  (Bread)\n",
      "3   0.039765                (Brownie)\n",
      "4   0.103137                   (Cake)\n",
      "..       ...                      ...\n",
      "58  0.049523            (Tea, Coffee)\n",
      "59  0.023502          (Toast, Coffee)\n",
      "60  0.018256              (NONE, Tea)\n",
      "61  0.014269          (Tea, Sandwich)\n",
      "62  0.011122  (Coffee, Pastry, Bread)\n",
      "\n",
      "[63 rows x 2 columns]\n"
     ]
    }
   ],
   "source": [
    "frequent_itemsets = apriori(encoded_df, min_support=0.01, use_colnames=True)\n",
    "print(frequent_itemsets)"
   ]
  },
  {
   "cell_type": "markdown",
   "metadata": {},
   "source": [
    "Q12. Use `mlxtend.frequent_patterns.fpmax` to find and display all of the maximal frequent itemsets along with their support values. "
   ]
  },
  {
   "cell_type": "code",
   "execution_count": 326,
   "metadata": {},
   "outputs": [
    {
     "name": "stdout",
     "output_type": "stream",
     "text": [
      "\r",
      "0 itemset(s) from tree conditioned on items ()\n",
      "\r",
      "1 itemset(s) from tree conditioned on items (73)\n",
      "\r",
      "1 itemset(s) from tree conditioned on items (46)\n",
      "\r",
      "1 itemset(s) from tree conditioned on items (18)\n",
      "\r",
      "1 itemset(s) from tree conditioned on items (50)\n",
      "\r",
      "1 itemset(s) from tree conditioned on items (57)\n",
      "\r",
      "1 itemset(s) from tree conditioned on items (40)\n",
      "\r",
      "1 itemset(s) from tree conditioned on items (49)\n",
      "\r",
      "1 itemset(s) from tree conditioned on items (87)\n",
      "\r",
      "1 itemset(s) from tree conditioned on items (6)\n",
      "\r",
      "1 itemset(s) from tree conditioned on items (80)\n",
      "\r",
      "1 itemset(s) from tree conditioned on items (25)\n",
      "\r",
      "1 itemset(s) from tree conditioned on items (89)\n",
      "\r",
      "1 itemset(s) from tree conditioned on items (75)\n",
      "\r",
      "1 itemset(s) from tree conditioned on items (88)\n",
      "\r",
      "1 itemset(s) from tree conditioned on items (79)\n",
      "\r",
      "1 itemset(s) from tree conditioned on items (76)\n",
      "\r",
      "0 itemset(s) from tree conditioned on items (2)\n",
      "\r",
      "1 itemset(s) from tree conditioned on items (2, 11)\n",
      "\r",
      "1 itemset(s) from tree conditioned on items (2, 23)\n",
      "\r",
      "1 itemset(s) from tree conditioned on items (60)\n",
      "\r",
      "1 itemset(s) from tree conditioned on items (51)\n",
      "\r",
      "1 itemset(s) from tree conditioned on items (37)\n",
      "\r",
      "0 itemset(s) from tree conditioned on items (14)\n",
      "\r",
      "1 itemset(s) from tree conditioned on items (14, 11)\n",
      "\r",
      "1 itemset(s) from tree conditioned on items (14, 23)\n",
      "\r",
      "0 itemset(s) from tree conditioned on items (26)\n",
      "\r",
      "1 itemset(s) from tree conditioned on items (26, 11)\n",
      "\r",
      "1 itemset(s) from tree conditioned on items (26, 23)\n",
      "\r",
      "0 itemset(s) from tree conditioned on items (48)\n",
      "\r",
      "1 itemset(s) from tree conditioned on items (48, 15)\n",
      "\r",
      "1 itemset(s) from tree conditioned on items (48, 11)\n",
      "\r",
      "1 itemset(s) from tree conditioned on items (48, 23)\n",
      "\r",
      "0 itemset(s) from tree conditioned on items (55)\n",
      "\r",
      "1 itemset(s) from tree conditioned on items (55, 11)\n",
      "\r",
      "1 itemset(s) from tree conditioned on items (55, 23)\n",
      "\r",
      "0 itemset(s) from tree conditioned on items (74)\n",
      "\r",
      "1 itemset(s) from tree conditioned on items (74, 84)\n",
      "\r",
      "1 itemset(s) from tree conditioned on items (74, 11)\n",
      "\r",
      "1 itemset(s) from tree conditioned on items (74, 23)\n",
      "\r",
      "0 itemset(s) from tree conditioned on items (62)\n",
      "\r",
      "1 itemset(s) from tree conditioned on items (62, 84)\n",
      "\r",
      "1 itemset(s) from tree conditioned on items (62, 11)\n",
      "\r",
      "1 itemset(s) from tree conditioned on items (62, 23)\n",
      "\r",
      "0 itemset(s) from tree conditioned on items (66)\n",
      "\r",
      "1 itemset(s) from tree conditioned on items (66, 11)\n",
      "\r",
      "0 itemset(s) from tree conditioned on items (15)\n",
      "\r",
      "1 itemset(s) from tree conditioned on items (15, 11)\n",
      "\r",
      "1 itemset(s) from tree conditioned on items (15, 84)\n",
      "\r",
      "1 itemset(s) from tree conditioned on items (15, 23)\n",
      "\r",
      "0 itemset(s) from tree conditioned on items (84)\n",
      "\r",
      "1 itemset(s) from tree conditioned on items (84, 11)\n",
      "\r",
      "1 itemset(s) from tree conditioned on items (84, 23)\n",
      "     support      itemsets\n",
      "0   0.010387          (73)\n",
      "1   0.010492          (46)\n",
      "2   0.012905          (18)\n",
      "3   0.013115          (50)\n",
      "4   0.014059          (57)\n",
      "5   0.014899          (40)\n",
      "6   0.014899          (49)\n",
      "7   0.015318          (87)\n",
      "8   0.015948           (6)\n",
      "9   0.010807      (80, 23)\n",
      "10  0.019305          (25)\n",
      "11  0.020145          (89)\n",
      "12  0.028853          (75)\n",
      "13  0.023502      (88, 23)\n",
      "14  0.015738      (79, 23)\n",
      "15  0.017941      (76, 23)\n",
      "16  0.010282       (2, 11)\n",
      "17  0.019515       (2, 23)\n",
      "18  0.018676      (60, 23)\n",
      "19  0.020460      (51, 23)\n",
      "20  0.038926          (37)\n",
      "21  0.010702      (11, 14)\n",
      "22  0.019515      (14, 23)\n",
      "23  0.014374      (26, 11)\n",
      "24  0.028014      (26, 23)\n",
      "25  0.011331      (48, 15)\n",
      "26  0.013325      (48, 11)\n",
      "27  0.029378      (48, 23)\n",
      "28  0.016787      (11, 55)\n",
      "29  0.034939      (55, 23)\n",
      "30  0.014269      (74, 84)\n",
      "31  0.016892      (74, 11)\n",
      "32  0.037981      (74, 23)\n",
      "33  0.018256      (84, 62)\n",
      "34  0.020564      (11, 62)\n",
      "35  0.042073      (62, 23)\n",
      "36  0.011122  (66, 11, 23)\n",
      "37  0.023187      (11, 15)\n",
      "38  0.023607      (84, 15)\n",
      "39  0.054349      (15, 23)\n",
      "40  0.027909      (11, 84)\n",
      "41  0.049523      (84, 23)\n"
     ]
    }
   ],
   "source": [
    "maximal_itemsets = fpmax(encoded_df, min_support=0.01, verbose=1)\n",
    "print(maximal_itemsets)"
   ]
  },
  {
   "cell_type": "markdown",
   "metadata": {},
   "source": [
    "Q13. Use `mlxtend.frequent_patterns.association_rules` to calculate rules with a confidence level of 0.25 for the frequent itemsets you generated in Q11."
   ]
  },
  {
   "cell_type": "code",
   "execution_count": 327,
   "metadata": {},
   "outputs": [
    {
     "name": "stdout",
     "output_type": "stream",
     "text": [
      "         antecedents consequents  antecedent support  consequent support  \\\n",
      "0        (Alfajores)     (Bread)            0.036093            0.324940   \n",
      "1        (Alfajores)    (Coffee)            0.036093            0.475081   \n",
      "2          (Brownie)     (Bread)            0.039765            0.324940   \n",
      "3            (Bread)    (Coffee)            0.324940            0.475081   \n",
      "4          (Cookies)     (Bread)            0.054034            0.324940   \n",
      "5        (Medialuna)     (Bread)            0.061379            0.324940   \n",
      "6             (NONE)     (Bread)            0.079005            0.324940   \n",
      "7           (Pastry)     (Bread)            0.085510            0.324940   \n",
      "8          (Brownie)    (Coffee)            0.039765            0.475081   \n",
      "9             (Cake)    (Coffee)            0.103137            0.475081   \n",
      "10         (Cookies)    (Coffee)            0.054034            0.475081   \n",
      "11   (Hot chocolate)    (Coffee)            0.057916            0.475081   \n",
      "12           (Juice)    (Coffee)            0.038296            0.475081   \n",
      "13       (Medialuna)    (Coffee)            0.061379            0.475081   \n",
      "14          (Muffin)    (Coffee)            0.038191            0.475081   \n",
      "15            (NONE)    (Coffee)            0.079005            0.475081   \n",
      "16          (Pastry)    (Coffee)            0.085510            0.475081   \n",
      "17        (Sandwich)    (Coffee)            0.071346            0.475081   \n",
      "18           (Scone)    (Coffee)            0.034309            0.475081   \n",
      "19            (Soup)    (Coffee)            0.034204            0.475081   \n",
      "20  (Spanish Brunch)    (Coffee)            0.018046            0.475081   \n",
      "21             (Tea)    (Coffee)            0.141643            0.475081   \n",
      "22           (Toast)    (Coffee)            0.033365            0.475081   \n",
      "23   (Pastry, Bread)    (Coffee)            0.028958            0.475081   \n",
      "\n",
      "     support  confidence      lift  leverage  conviction  zhangs_metric  \n",
      "0   0.010282    0.284884  0.876728 -0.001446    0.943987      -0.127300  \n",
      "1   0.019515    0.540698  1.138116  0.002368    1.142861       0.125899  \n",
      "2   0.010702    0.269129  0.828244 -0.002219    0.923639      -0.177606  \n",
      "3   0.089393    0.275105  0.579069 -0.064980    0.724131      -0.518492  \n",
      "4   0.014374    0.266019  0.818673 -0.003184    0.919725      -0.189719  \n",
      "5   0.016787    0.273504  0.841708 -0.003157    0.929201      -0.166915  \n",
      "6   0.020564    0.260292  0.801048 -0.005107    0.912604      -0.212394  \n",
      "7   0.028958    0.338650  1.042194  0.001172    1.020731       0.044272  \n",
      "8   0.019515    0.490765  1.033013  0.000624    1.030799       0.033281  \n",
      "9   0.054349    0.526958  1.109196  0.005350    1.109667       0.109767  \n",
      "10  0.028014    0.518447  1.091280  0.002343    1.090053       0.088422  \n",
      "11  0.029378    0.507246  1.067704  0.001863    1.065276       0.067309  \n",
      "12  0.020460    0.534247  1.124537  0.002266    1.127031       0.115155  \n",
      "13  0.034939    0.569231  1.198175  0.005779    1.218561       0.176213  \n",
      "14  0.018676    0.489011  1.029321  0.000532    1.027260       0.029616  \n",
      "15  0.042073    0.532537  1.120938  0.004539    1.122908       0.117145  \n",
      "16  0.047214    0.552147  1.162216  0.006590    1.172079       0.152626  \n",
      "17  0.037981    0.532353  1.120551  0.004086    1.122468       0.115847  \n",
      "18  0.017941    0.522936  1.100729  0.001642    1.100310       0.094762  \n",
      "19  0.015738    0.460123  0.968514 -0.000512    0.972293      -0.032565  \n",
      "20  0.010807    0.598837  1.260494  0.002233    1.308493       0.210458  \n",
      "21  0.049523    0.349630  0.735936 -0.017769    0.807107      -0.294793  \n",
      "22  0.023502    0.704403  1.482699  0.007651    1.775789       0.336791  \n",
      "23  0.011122    0.384058  0.808405 -0.002636    0.852221      -0.196188  \n"
     ]
    }
   ],
   "source": [
    "frequent_itemsets = frequent_itemsets[frequent_itemsets['support'] >= 0.01]\n",
    "rules = association_rules(frequent_itemsets, metric=\"confidence\", min_threshold=0.25)\n",
    "\n",
    "print(rules)"
   ]
  },
  {
   "cell_type": "markdown",
   "metadata": {},
   "source": [
    "Q14. An important step in generating a set of association rules is to determine the optimal thresholds for support and confidence. If we set these values too low we will get a lot of rules and most of them will not be useful. \n",
    "\n",
    "Generate the frequent itemsets with minimum support of 0.5% and plot the number of rules generated with respect to the confidence threshold by varying min_conf between 0 and 1 with increments of 0.1. Notice what happens when you increase the confidence level."
   ]
  },
  {
   "cell_type": "code",
   "execution_count": 328,
   "metadata": {},
   "outputs": [
    {
     "data": {
      "image/png": "[encoded data removed]",
      "text/plain": [
       "<Figure size 1080x504 with 1 Axes>"
      ]
     },
     "metadata": {
      "needs_background": "light"
     },
     "output_type": "display_data"
    }
   ],
   "source": [
    "frequent_itemsets = apriori(encoded_df, min_support=0.005, use_colnames=True)\n",
    "\n",
    "min_conf_values = np.arange(0, 1.1, 0.1)\n",
    "num_rules = []\n",
    "\n",
    "for min_conf in min_conf_values:\n",
    "    rules = association_rules(frequent_itemsets, metric=\"confidence\", min_threshold=min_conf)\n",
    "    num_rules.append(len(rules))\n",
    "\n",
    "plt.figure(figsize=(15, 7))\n",
    "plt.plot(min_conf_values, num_rules)\n",
    "plt.xlabel(\"Minimum Confidence\")\n",
    "plt.ylabel(\"Number of Rules\")\n",
    "plt.title(\"Number of Association Rules vs Confidence Threshold\")\n",
    "plt.show()"
   ]
  },
  {
   "cell_type": "markdown",
   "metadata": {},
   "source": [
    "Q15. What value would you choose for the minimum confidence threshold based on the previous plot? Explain why as a comment. \n",
    "\n",
    "Display the rules generated for the your chosen value. Take a look at the generated rules. Are they interesting? As a comment, explain why or why not."
   ]
  },
  {
   "cell_type": "code",
   "execution_count": 329,
   "metadata": {},
   "outputs": [
    {
     "name": "stdout",
     "output_type": "stream",
     "text": [
      "               antecedents consequents  antecedent support  \\\n",
      "0              (Alfajores)    (Coffee)            0.036093   \n",
      "1                (Brownie)    (Coffee)            0.039765   \n",
      "2                   (Cake)    (Coffee)            0.103137   \n",
      "3                (Cookies)    (Coffee)            0.054034   \n",
      "4      (Hearty & Seasonal)    (Coffee)            0.010492   \n",
      "5          (Hot chocolate)    (Coffee)            0.057916   \n",
      "6         (Jammie Dodgers)    (Coffee)            0.013115   \n",
      "7                  (Juice)    (Coffee)            0.038296   \n",
      "8       (Keeping It Local)    (Coffee)            0.006610   \n",
      "9              (Medialuna)    (Coffee)            0.061379   \n",
      "10                (Muffin)    (Coffee)            0.038191   \n",
      "11                  (NONE)    (Coffee)            0.079005   \n",
      "12                (Pastry)    (Coffee)            0.085510   \n",
      "13                 (Salad)    (Coffee)            0.010387   \n",
      "14              (Sandwich)    (Coffee)            0.071346   \n",
      "15                 (Scone)    (Coffee)            0.034309   \n",
      "16                  (Soup)    (Coffee)            0.034204   \n",
      "17        (Spanish Brunch)    (Coffee)            0.018046   \n",
      "18                (Tiffin)    (Coffee)            0.015318   \n",
      "19                 (Toast)    (Coffee)            0.033365   \n",
      "20           (Bread, Cake)    (Coffee)            0.023187   \n",
      "21  (Hot chocolate, Bread)    (Coffee)            0.013325   \n",
      "22           (NONE, Bread)    (Coffee)            0.020564   \n",
      "23       (Bread, Sandwich)    (Coffee)            0.016892   \n",
      "24   (Hot chocolate, Cake)    (Coffee)            0.011331   \n",
      "25             (Tea, Cake)    (Coffee)            0.023607   \n",
      "26        (NONE, Sandwich)    (Coffee)            0.009128   \n",
      "\n",
      "    consequent support   support  confidence      lift  leverage  conviction  \\\n",
      "0             0.475081  0.019515    0.540698  1.138116  0.002368    1.142861   \n",
      "1             0.475081  0.019515    0.490765  1.033013  0.000624    1.030799   \n",
      "2             0.475081  0.054349    0.526958  1.109196  0.005350    1.109667   \n",
      "3             0.475081  0.028014    0.518447  1.091280  0.002343    1.090053   \n",
      "4             0.475081  0.005666    0.540000  1.136648  0.000681    1.141128   \n",
      "5             0.475081  0.029378    0.507246  1.067704  0.001863    1.065276   \n",
      "6             0.475081  0.006610    0.504000  1.060871  0.000379    1.058304   \n",
      "7             0.475081  0.020460    0.534247  1.124537  0.002266    1.127031   \n",
      "8             0.475081  0.005351    0.809524  1.703969  0.002211    2.755823   \n",
      "9             0.475081  0.034939    0.569231  1.198175  0.005779    1.218561   \n",
      "10            0.475081  0.018676    0.489011  1.029321  0.000532    1.027260   \n",
      "11            0.475081  0.042073    0.532537  1.120938  0.004539    1.122908   \n",
      "12            0.475081  0.047214    0.552147  1.162216  0.006590    1.172079   \n",
      "13            0.475081  0.006505    0.626263  1.318222  0.001570    1.404512   \n",
      "14            0.475081  0.037981    0.532353  1.120551  0.004086    1.122468   \n",
      "15            0.475081  0.017941    0.522936  1.100729  0.001642    1.100310   \n",
      "16            0.475081  0.015738    0.460123  0.968514 -0.000512    0.972293   \n",
      "17            0.475081  0.010807    0.598837  1.260494  0.002233    1.308493   \n",
      "18            0.475081  0.008394    0.547945  1.153371  0.001116    1.161184   \n",
      "19            0.475081  0.023502    0.704403  1.482699  0.007651    1.775789   \n",
      "20            0.475081  0.009967    0.429864  0.904822 -0.001048    0.920691   \n",
      "21            0.475081  0.006085    0.456693  0.961294 -0.000245    0.966155   \n",
      "22            0.475081  0.008394    0.408163  0.859144 -0.001376    0.886932   \n",
      "23            0.475081  0.007135    0.422360  0.889027 -0.000891    0.908730   \n",
      "24            0.475081  0.006820    0.601852  1.266840  0.001436    1.318400   \n",
      "25            0.475081  0.009967    0.422222  0.888737 -0.001248    0.908513   \n",
      "26            0.475081  0.005141    0.563218  1.185520  0.000805    1.201788   \n",
      "\n",
      "    zhangs_metric  \n",
      "0        0.125899  \n",
      "1        0.033281  \n",
      "2        0.109767  \n",
      "3        0.088422  \n",
      "4        0.121495  \n",
      "5        0.067309  \n",
      "6        0.058141  \n",
      "7        0.115155  \n",
      "8        0.415884  \n",
      "9        0.176213  \n",
      "10       0.029616  \n",
      "11       0.117145  \n",
      "12       0.152626  \n",
      "13       0.243936  \n",
      "14       0.115847  \n",
      "15       0.094762  \n",
      "16      -0.032565  \n",
      "17       0.210458  \n",
      "18       0.135045  \n",
      "19       0.336791  \n",
      "20      -0.097217  \n",
      "21      -0.039208  \n",
      "22      -0.143389  \n",
      "23      -0.112665  \n",
      "24       0.213048  \n",
      "25      -0.113648  \n",
      "26       0.157930  \n"
     ]
    }
   ],
   "source": [
    "rules = association_rules(frequent_itemsets, metric=\"confidence\", min_threshold=0.4)\n",
    "print(rules)"
   ]
  },
  {
   "cell_type": "code",
   "execution_count": 330,
   "metadata": {},
   "outputs": [
    {
     "data": {
      "text/plain": [
       "'\\nWith this threshold, the rules seem to be interesting because they all show a relatively high confidence value, \\nwhich means that there is a strong connection between the antecedent and consequent.\\n\\nFor example, the rule “Cake, Bread” -> “Coffee” has a confidence of 0.840580,\\nand this implies that a customer who buys cake and bread together is very likely to also buy coffee.\\n'"
      ]
     },
     "execution_count": 330,
     "metadata": {},
     "output_type": "execute_result"
    }
   ],
   "source": [
    "# Are they interesting? As a comment, explain why or why not.\n",
    "\n",
    "\"\"\"\n",
    "With this threshold, the rules seem to be interesting because they all show a relatively high confidence value, \n",
    "which means that there is a strong connection between the antecedent and consequent.\n",
    "\n",
    "For example, the rule “Cake, Bread” -> “Coffee” has a confidence of 0.840580,\n",
    "and this implies that a customer who buys cake and bread together is very likely to also buy coffee.\n",
    "\"\"\""
   ]
  },
  {
   "cell_type": "code",
   "execution_count": null,
   "metadata": {},
   "outputs": [],
   "source": []
  }
 ],
 "metadata": {
  "kernelspec": {
   "display_name": "Python 3 (ipykernel)",
   "language": "python",
   "name": "python3"
  },
  "language_info": {
   "codemirror_mode": {
    "name": "ipython",
    "version": 3
   },
   "file_extension": ".py",
   "mimetype": "text/x-python",
   "name": "python",
   "nbconvert_exporter": "python",
   "pygments_lexer": "ipython3",
   "version": "3.9.7"
  }
 },
 "nbformat": 4,
 "nbformat_minor": 4
}
